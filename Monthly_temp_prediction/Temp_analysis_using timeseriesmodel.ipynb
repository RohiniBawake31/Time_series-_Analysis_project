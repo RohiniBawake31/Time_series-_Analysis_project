{
 "cells": [
  {
   "cell_type": "markdown",
   "id": "6697d2d0-f694-4500-852d-0c39099c47a0",
   "metadata": {},
   "source": [
    "# Analysing monthly mean temperature using timeseries analysis"
   ]
  },
  {
   "cell_type": "code",
   "execution_count": 1,
   "id": "498d70b4-754c-40fd-82ac-bba298f4cb64",
   "metadata": {},
   "outputs": [],
   "source": [
    "import pandas as pd\n",
    "import numpy as np\n",
    "import seaborn as sns\n",
    "import matplotlib as pyplot"
   ]
  },
  {
   "cell_type": "code",
   "execution_count": 2,
   "id": "448dfe3b-d5a2-4e42-b78d-6ae9364a4170",
   "metadata": {},
   "outputs": [],
   "source": [
    "data=pd.read_csv(\"monthly-mean-temp.csv\")"
   ]
  },
  {
   "cell_type": "code",
   "execution_count": 3,
   "id": "0dba2fbf-d735-442b-92f8-7f8667bd0a19",
   "metadata": {},
   "outputs": [
    {
     "data": {
      "text/html": [
       "<div>\n",
       "<style scoped>\n",
       "    .dataframe tbody tr th:only-of-type {\n",
       "        vertical-align: middle;\n",
       "    }\n",
       "\n",
       "    .dataframe tbody tr th {\n",
       "        vertical-align: top;\n",
       "    }\n",
       "\n",
       "    .dataframe thead th {\n",
       "        text-align: right;\n",
       "    }\n",
       "</style>\n",
       "<table border=\"1\" class=\"dataframe\">\n",
       "  <thead>\n",
       "    <tr style=\"text-align: right;\">\n",
       "      <th></th>\n",
       "      <th>Month</th>\n",
       "      <th>Temperature</th>\n",
       "    </tr>\n",
       "  </thead>\n",
       "  <tbody>\n",
       "    <tr>\n",
       "      <th>0</th>\n",
       "      <td>1920-01</td>\n",
       "      <td>40.6</td>\n",
       "    </tr>\n",
       "    <tr>\n",
       "      <th>1</th>\n",
       "      <td>1920-02</td>\n",
       "      <td>40.8</td>\n",
       "    </tr>\n",
       "    <tr>\n",
       "      <th>2</th>\n",
       "      <td>1920-03</td>\n",
       "      <td>44.4</td>\n",
       "    </tr>\n",
       "    <tr>\n",
       "      <th>3</th>\n",
       "      <td>1920-04</td>\n",
       "      <td>46.7</td>\n",
       "    </tr>\n",
       "    <tr>\n",
       "      <th>4</th>\n",
       "      <td>1920-05</td>\n",
       "      <td>54.1</td>\n",
       "    </tr>\n",
       "    <tr>\n",
       "      <th>...</th>\n",
       "      <td>...</td>\n",
       "      <td>...</td>\n",
       "    </tr>\n",
       "    <tr>\n",
       "      <th>235</th>\n",
       "      <td>1939-08</td>\n",
       "      <td>61.8</td>\n",
       "    </tr>\n",
       "    <tr>\n",
       "      <th>236</th>\n",
       "      <td>1939-09</td>\n",
       "      <td>58.2</td>\n",
       "    </tr>\n",
       "    <tr>\n",
       "      <th>237</th>\n",
       "      <td>1939-10</td>\n",
       "      <td>46.7</td>\n",
       "    </tr>\n",
       "    <tr>\n",
       "      <th>238</th>\n",
       "      <td>1939-11</td>\n",
       "      <td>46.6</td>\n",
       "    </tr>\n",
       "    <tr>\n",
       "      <th>239</th>\n",
       "      <td>1939-12</td>\n",
       "      <td>37.8</td>\n",
       "    </tr>\n",
       "  </tbody>\n",
       "</table>\n",
       "<p>240 rows × 2 columns</p>\n",
       "</div>"
      ],
      "text/plain": [
       "       Month  Temperature\n",
       "0    1920-01         40.6\n",
       "1    1920-02         40.8\n",
       "2    1920-03         44.4\n",
       "3    1920-04         46.7\n",
       "4    1920-05         54.1\n",
       "..       ...          ...\n",
       "235  1939-08         61.8\n",
       "236  1939-09         58.2\n",
       "237  1939-10         46.7\n",
       "238  1939-11         46.6\n",
       "239  1939-12         37.8\n",
       "\n",
       "[240 rows x 2 columns]"
      ]
     },
     "execution_count": 3,
     "metadata": {},
     "output_type": "execute_result"
    }
   ],
   "source": [
    "data"
   ]
  },
  {
   "cell_type": "code",
   "execution_count": 4,
   "id": "7f32641d-880c-48b6-9a8a-23b1729aa4ca",
   "metadata": {},
   "outputs": [
    {
     "data": {
      "text/html": [
       "<div>\n",
       "<style scoped>\n",
       "    .dataframe tbody tr th:only-of-type {\n",
       "        vertical-align: middle;\n",
       "    }\n",
       "\n",
       "    .dataframe tbody tr th {\n",
       "        vertical-align: top;\n",
       "    }\n",
       "\n",
       "    .dataframe thead th {\n",
       "        text-align: right;\n",
       "    }\n",
       "</style>\n",
       "<table border=\"1\" class=\"dataframe\">\n",
       "  <thead>\n",
       "    <tr style=\"text-align: right;\">\n",
       "      <th></th>\n",
       "      <th>Month</th>\n",
       "      <th>Temperature</th>\n",
       "    </tr>\n",
       "  </thead>\n",
       "  <tbody>\n",
       "    <tr>\n",
       "      <th>0</th>\n",
       "      <td>1920-01</td>\n",
       "      <td>40.6</td>\n",
       "    </tr>\n",
       "    <tr>\n",
       "      <th>1</th>\n",
       "      <td>1920-02</td>\n",
       "      <td>40.8</td>\n",
       "    </tr>\n",
       "    <tr>\n",
       "      <th>2</th>\n",
       "      <td>1920-03</td>\n",
       "      <td>44.4</td>\n",
       "    </tr>\n",
       "    <tr>\n",
       "      <th>3</th>\n",
       "      <td>1920-04</td>\n",
       "      <td>46.7</td>\n",
       "    </tr>\n",
       "    <tr>\n",
       "      <th>4</th>\n",
       "      <td>1920-05</td>\n",
       "      <td>54.1</td>\n",
       "    </tr>\n",
       "  </tbody>\n",
       "</table>\n",
       "</div>"
      ],
      "text/plain": [
       "     Month  Temperature\n",
       "0  1920-01         40.6\n",
       "1  1920-02         40.8\n",
       "2  1920-03         44.4\n",
       "3  1920-04         46.7\n",
       "4  1920-05         54.1"
      ]
     },
     "execution_count": 4,
     "metadata": {},
     "output_type": "execute_result"
    }
   ],
   "source": [
    "data.head()"
   ]
  },
  {
   "cell_type": "code",
   "execution_count": 5,
   "id": "421d79c9-0496-48ea-ade3-7ec81c746b27",
   "metadata": {},
   "outputs": [
    {
     "data": {
      "text/html": [
       "<div>\n",
       "<style scoped>\n",
       "    .dataframe tbody tr th:only-of-type {\n",
       "        vertical-align: middle;\n",
       "    }\n",
       "\n",
       "    .dataframe tbody tr th {\n",
       "        vertical-align: top;\n",
       "    }\n",
       "\n",
       "    .dataframe thead th {\n",
       "        text-align: right;\n",
       "    }\n",
       "</style>\n",
       "<table border=\"1\" class=\"dataframe\">\n",
       "  <thead>\n",
       "    <tr style=\"text-align: right;\">\n",
       "      <th></th>\n",
       "      <th>Month</th>\n",
       "      <th>Temperature</th>\n",
       "    </tr>\n",
       "  </thead>\n",
       "  <tbody>\n",
       "    <tr>\n",
       "      <th>235</th>\n",
       "      <td>1939-08</td>\n",
       "      <td>61.8</td>\n",
       "    </tr>\n",
       "    <tr>\n",
       "      <th>236</th>\n",
       "      <td>1939-09</td>\n",
       "      <td>58.2</td>\n",
       "    </tr>\n",
       "    <tr>\n",
       "      <th>237</th>\n",
       "      <td>1939-10</td>\n",
       "      <td>46.7</td>\n",
       "    </tr>\n",
       "    <tr>\n",
       "      <th>238</th>\n",
       "      <td>1939-11</td>\n",
       "      <td>46.6</td>\n",
       "    </tr>\n",
       "    <tr>\n",
       "      <th>239</th>\n",
       "      <td>1939-12</td>\n",
       "      <td>37.8</td>\n",
       "    </tr>\n",
       "  </tbody>\n",
       "</table>\n",
       "</div>"
      ],
      "text/plain": [
       "       Month  Temperature\n",
       "235  1939-08         61.8\n",
       "236  1939-09         58.2\n",
       "237  1939-10         46.7\n",
       "238  1939-11         46.6\n",
       "239  1939-12         37.8"
      ]
     },
     "execution_count": 5,
     "metadata": {},
     "output_type": "execute_result"
    }
   ],
   "source": [
    "data.tail()"
   ]
  },
  {
   "cell_type": "markdown",
   "id": "11dddcaa-485e-4990-83b7-50879f7bf5c0",
   "metadata": {},
   "source": [
    "# Basic checks"
   ]
  },
  {
   "cell_type": "code",
   "execution_count": 6,
   "id": "a14d26ac-c6d3-41e8-923d-8957c24ec435",
   "metadata": {},
   "outputs": [
    {
     "name": "stdout",
     "output_type": "stream",
     "text": [
      "<class 'pandas.core.frame.DataFrame'>\n",
      "RangeIndex: 240 entries, 0 to 239\n",
      "Data columns (total 2 columns):\n",
      " #   Column       Non-Null Count  Dtype  \n",
      "---  ------       --------------  -----  \n",
      " 0   Month        240 non-null    object \n",
      " 1   Temperature  240 non-null    float64\n",
      "dtypes: float64(1), object(1)\n",
      "memory usage: 3.9+ KB\n"
     ]
    }
   ],
   "source": [
    "data.info()"
   ]
  },
  {
   "cell_type": "code",
   "execution_count": 7,
   "id": "83cf2cb8-049f-469a-ad39-e32d7824fdbd",
   "metadata": {},
   "outputs": [],
   "source": [
    "data=pd.read_csv('monthly-mean-temp.csv',parse_dates=[0],index_col='Month')"
   ]
  },
  {
   "cell_type": "code",
   "execution_count": 8,
   "id": "95c3a54d-9271-4b30-bd91-935c66705c76",
   "metadata": {},
   "outputs": [],
   "source": [
    "data.rename(columns={\"Temperature\":\"temp\"},inplace=True)"
   ]
  },
  {
   "cell_type": "code",
   "execution_count": 9,
   "id": "be15ca75-2152-4400-b829-4a8a36f9c76f",
   "metadata": {},
   "outputs": [
    {
     "data": {
      "text/html": [
       "<div>\n",
       "<style scoped>\n",
       "    .dataframe tbody tr th:only-of-type {\n",
       "        vertical-align: middle;\n",
       "    }\n",
       "\n",
       "    .dataframe tbody tr th {\n",
       "        vertical-align: top;\n",
       "    }\n",
       "\n",
       "    .dataframe thead th {\n",
       "        text-align: right;\n",
       "    }\n",
       "</style>\n",
       "<table border=\"1\" class=\"dataframe\">\n",
       "  <thead>\n",
       "    <tr style=\"text-align: right;\">\n",
       "      <th></th>\n",
       "      <th>temp</th>\n",
       "    </tr>\n",
       "    <tr>\n",
       "      <th>Month</th>\n",
       "      <th></th>\n",
       "    </tr>\n",
       "  </thead>\n",
       "  <tbody>\n",
       "    <tr>\n",
       "      <th>1920-01-01</th>\n",
       "      <td>40.6</td>\n",
       "    </tr>\n",
       "    <tr>\n",
       "      <th>1920-02-01</th>\n",
       "      <td>40.8</td>\n",
       "    </tr>\n",
       "    <tr>\n",
       "      <th>1920-03-01</th>\n",
       "      <td>44.4</td>\n",
       "    </tr>\n",
       "    <tr>\n",
       "      <th>1920-04-01</th>\n",
       "      <td>46.7</td>\n",
       "    </tr>\n",
       "    <tr>\n",
       "      <th>1920-05-01</th>\n",
       "      <td>54.1</td>\n",
       "    </tr>\n",
       "  </tbody>\n",
       "</table>\n",
       "</div>"
      ],
      "text/plain": [
       "            temp\n",
       "Month           \n",
       "1920-01-01  40.6\n",
       "1920-02-01  40.8\n",
       "1920-03-01  44.4\n",
       "1920-04-01  46.7\n",
       "1920-05-01  54.1"
      ]
     },
     "execution_count": 9,
     "metadata": {},
     "output_type": "execute_result"
    }
   ],
   "source": [
    "data.head()"
   ]
  },
  {
   "cell_type": "code",
   "execution_count": 10,
   "id": "8a0e52e3-8633-42ec-9545-530127e4ad22",
   "metadata": {},
   "outputs": [
    {
     "data": {
      "text/html": [
       "<div>\n",
       "<style scoped>\n",
       "    .dataframe tbody tr th:only-of-type {\n",
       "        vertical-align: middle;\n",
       "    }\n",
       "\n",
       "    .dataframe tbody tr th {\n",
       "        vertical-align: top;\n",
       "    }\n",
       "\n",
       "    .dataframe thead th {\n",
       "        text-align: right;\n",
       "    }\n",
       "</style>\n",
       "<table border=\"1\" class=\"dataframe\">\n",
       "  <thead>\n",
       "    <tr style=\"text-align: right;\">\n",
       "      <th></th>\n",
       "      <th>temp</th>\n",
       "    </tr>\n",
       "  </thead>\n",
       "  <tbody>\n",
       "    <tr>\n",
       "      <th>count</th>\n",
       "      <td>240.000000</td>\n",
       "    </tr>\n",
       "    <tr>\n",
       "      <th>mean</th>\n",
       "      <td>49.041250</td>\n",
       "    </tr>\n",
       "    <tr>\n",
       "      <th>std</th>\n",
       "      <td>8.569705</td>\n",
       "    </tr>\n",
       "    <tr>\n",
       "      <th>min</th>\n",
       "      <td>31.300000</td>\n",
       "    </tr>\n",
       "    <tr>\n",
       "      <th>25%</th>\n",
       "      <td>41.550000</td>\n",
       "    </tr>\n",
       "    <tr>\n",
       "      <th>50%</th>\n",
       "      <td>47.350000</td>\n",
       "    </tr>\n",
       "    <tr>\n",
       "      <th>75%</th>\n",
       "      <td>57.000000</td>\n",
       "    </tr>\n",
       "    <tr>\n",
       "      <th>max</th>\n",
       "      <td>66.500000</td>\n",
       "    </tr>\n",
       "  </tbody>\n",
       "</table>\n",
       "</div>"
      ],
      "text/plain": [
       "             temp\n",
       "count  240.000000\n",
       "mean    49.041250\n",
       "std      8.569705\n",
       "min     31.300000\n",
       "25%     41.550000\n",
       "50%     47.350000\n",
       "75%     57.000000\n",
       "max     66.500000"
      ]
     },
     "execution_count": 10,
     "metadata": {},
     "output_type": "execute_result"
    }
   ],
   "source": [
    "data.describe()"
   ]
  },
  {
   "cell_type": "code",
   "execution_count": 11,
   "id": "5ed8efa7-6c94-426f-805f-b324edda00f4",
   "metadata": {},
   "outputs": [
    {
     "data": {
      "text/plain": [
       "temp    0\n",
       "dtype: int64"
      ]
     },
     "execution_count": 11,
     "metadata": {},
     "output_type": "execute_result"
    }
   ],
   "source": [
    "data.isnull().sum()"
   ]
  },
  {
   "cell_type": "markdown",
   "id": "1ed97da4-1ce4-4686-a99a-3eb711b7de9a",
   "metadata": {},
   "source": [
    " No null values present in data"
   ]
  },
  {
   "cell_type": "code",
   "execution_count": 12,
   "id": "2750ac86-7b16-43eb-8c35-ac8a890ad221",
   "metadata": {},
   "outputs": [
    {
     "data": {
      "text/plain": [
       "(240, 1)"
      ]
     },
     "execution_count": 12,
     "metadata": {},
     "output_type": "execute_result"
    }
   ],
   "source": [
    "data.shape"
   ]
  },
  {
   "cell_type": "code",
   "execution_count": 13,
   "id": "a08823d2-2886-49a4-97eb-657e7cca249d",
   "metadata": {},
   "outputs": [
    {
     "data": {
      "image/png": "[encoded data removed]",
      "text/plain": [
       "<Figure size 640x480 with 1 Axes>"
      ]
     },
     "metadata": {},
     "output_type": "display_data"
    }
   ],
   "source": [
    "import matplotlib.pyplot as plt\n",
    "plt.plot(data)\n",
    "plt.tight_layout()\n",
    "plt.show()"
   ]
  },
  {
   "cell_type": "code",
   "execution_count": 14,
   "id": "fe3223b9-5bc0-4a83-bbb1-488ae30ebaa3",
   "metadata": {},
   "outputs": [
    {
     "data": {
      "image/png": "[encoded data removed]",
      "text/plain": [
       "<Figure size 640x480 with 1 Axes>"
      ]
     },
     "metadata": {},
     "output_type": "display_data"
    }
   ],
   "source": [
    "## Plotting the autocorrelation function\n",
    "from statsmodels.graphics.tsaplots import plot_acf\n",
    "plot_acf(data)\n",
    "plt.show()"
   ]
  },
  {
   "cell_type": "markdown",
   "id": "9438c22d-4e91-4990-bade-d911bb42e70a",
   "metadata": {},
   "source": [
    "From the autocorrelation plot, it is clear that given series is stationary."
   ]
  },
  {
   "cell_type": "code",
   "execution_count": 15,
   "id": "81337d06-217e-4316-9156-330ad5b1b67c",
   "metadata": {},
   "outputs": [
    {
     "name": "stdout",
     "output_type": "stream",
     "text": [
      "(-3.2554924030863446, 0.016989030222608236, 14, 225, {'1%': -3.4597521044060353, '5%': -2.874472927517147, '10%': -2.5736628197530864}, 1076.9409941126798)\n",
      "1. ADF :  -3.2554924030863446\n",
      "2. P-Value :  0.016989030222608236\n",
      "3. Num Of Lags :  14\n",
      "4. Num Of Observations Used For ADF Regression and Critical Values Calculation : 225\n"
     ]
    }
   ],
   "source": [
    "# ADfuller Test to check stationarity\n",
    "from statsmodels.tsa.stattools import adfuller\n",
    "dftest = adfuller(data.temp, autolag = 'AIC')\n",
    "print(dftest)\n",
    "print(\"1. ADF : \",dftest[0])\n",
    "print(\"2. P-Value : \", dftest[1])\n",
    "print(\"3. Num Of Lags : \", dftest[2])\n",
    "print(\"4. Num Of Observations Used For ADF Regression and Critical Values Calculation :\", dftest[3])\n"
   ]
  },
  {
   "cell_type": "markdown",
   "id": "64c947f0-847c-49a9-a2db-193b835c8acc",
   "metadata": {},
   "source": [
    "Here we can see that p value is less than 0.05 so our data is stationary."
   ]
  },
  {
   "cell_type": "code",
   "execution_count": 16,
   "id": "fd6a5b84-edc2-48c3-b0bd-aa45a50a29db",
   "metadata": {},
   "outputs": [
    {
     "data": {
      "text/plain": [
       "(240, 1)"
      ]
     },
     "execution_count": 16,
     "metadata": {},
     "output_type": "execute_result"
    }
   ],
   "source": [
    "data.shape"
   ]
  },
  {
   "cell_type": "code",
   "execution_count": 17,
   "id": "e6c63f39-8786-46d8-8113-4c54f3b1ae68",
   "metadata": {},
   "outputs": [],
   "source": [
    "## Creating training and test sets\n",
    "train=data[:140] # traning data\n",
    "test=data[140:] # testing data"
   ]
  },
  {
   "cell_type": "code",
   "execution_count": 18,
   "id": "ed7356a3-1b1b-4ff0-b03b-1fcd9d556338",
   "metadata": {},
   "outputs": [
    {
     "data": {
      "text/plain": [
       "(100, 1)"
      ]
     },
     "execution_count": 18,
     "metadata": {},
     "output_type": "execute_result"
    }
   ],
   "source": [
    "test.shape"
   ]
  },
  {
   "cell_type": "code",
   "execution_count": 19,
   "id": "ebd6d5f2-cb22-407f-98b9-144004506314",
   "metadata": {},
   "outputs": [
    {
     "data": {
      "text/plain": [
       "(140, 1)"
      ]
     },
     "execution_count": 19,
     "metadata": {},
     "output_type": "execute_result"
    }
   ],
   "source": [
    "train.shape"
   ]
  },
  {
   "cell_type": "code",
   "execution_count": 20,
   "id": "1682bf3b-0506-4511-af20-ec30e9b24999",
   "metadata": {},
   "outputs": [
    {
     "name": "stdout",
     "output_type": "stream",
     "text": [
      "Requirement already satisfied: statsmodels in c:\\users\\asus\\anaconda3\\lib\\site-packages (0.14.2)\n",
      "Requirement already satisfied: numpy>=1.22.3 in c:\\users\\asus\\anaconda3\\lib\\site-packages (from statsmodels) (1.26.4)\n",
      "Requirement already satisfied: scipy!=1.9.2,>=1.8 in c:\\users\\asus\\anaconda3\\lib\\site-packages (from statsmodels) (1.13.1)\n",
      "Requirement already satisfied: pandas!=2.1.0,>=1.4 in c:\\users\\asus\\anaconda3\\lib\\site-packages (from statsmodels) (2.2.2)\n",
      "Requirement already satisfied: patsy>=0.5.6 in c:\\users\\asus\\anaconda3\\lib\\site-packages (from statsmodels) (0.5.6)\n",
      "Requirement already satisfied: packaging>=21.3 in c:\\users\\asus\\anaconda3\\lib\\site-packages (from statsmodels) (24.1)\n",
      "Requirement already satisfied: python-dateutil>=2.8.2 in c:\\users\\asus\\anaconda3\\lib\\site-packages (from pandas!=2.1.0,>=1.4->statsmodels) (2.9.0.post0)\n",
      "Requirement already satisfied: pytz>=2020.1 in c:\\users\\asus\\anaconda3\\lib\\site-packages (from pandas!=2.1.0,>=1.4->statsmodels) (2024.1)\n",
      "Requirement already satisfied: tzdata>=2022.7 in c:\\users\\asus\\anaconda3\\lib\\site-packages (from pandas!=2.1.0,>=1.4->statsmodels) (2023.3)\n",
      "Requirement already satisfied: six in c:\\users\\asus\\anaconda3\\lib\\site-packages (from patsy>=0.5.6->statsmodels) (1.16.0)\n"
     ]
    }
   ],
   "source": [
    " ! pip install statsmodels"
   ]
  },
  {
   "cell_type": "code",
   "execution_count": 21,
   "id": "96b57489-1709-4737-803d-e132a32c873a",
   "metadata": {},
   "outputs": [],
   "source": [
    "import warnings\n",
    "warnings.filterwarnings(\"ignore\")"
   ]
  },
  {
   "cell_type": "markdown",
   "id": "4a2fc5b9-8fb4-4bf4-a46c-7a7c2b4558c4",
   "metadata": {},
   "source": [
    "# ARMA"
   ]
  },
  {
   "cell_type": "code",
   "execution_count": 22,
   "id": "d577eb1e-46ca-43f9-b129-14a300062bde",
   "metadata": {},
   "outputs": [],
   "source": [
    "from statsmodels.tsa.ar_model import AutoReg"
   ]
  },
  {
   "cell_type": "code",
   "execution_count": 23,
   "id": "873cf81b-80f0-4700-8428-cc00294eb201",
   "metadata": {},
   "outputs": [
    {
     "data": {
      "text/plain": [
       "[1, 4, 11, 13]"
      ]
     },
     "execution_count": 23,
     "metadata": {},
     "output_type": "execute_result"
    }
   ],
   "source": [
    "# to select the optimal values for lags\n",
    "from statsmodels.tsa.ar_model import ar_select_order\n",
    "mod = ar_select_order(data,maxlag=15,glob=True)\n",
    "mod.ar_lags"
   ]
  },
  {
   "cell_type": "code",
   "execution_count": 24,
   "id": "c1e63db6-c6d2-42a4-be79-f2313175746c",
   "metadata": {},
   "outputs": [],
   "source": [
    "## model creation\n",
    "ar_model=AutoReg(train,lags=[1, 4, 11, 13]) ## object creation with lags specified\n",
    "ar_model_fit=ar_model.fit() #training the model"
   ]
  },
  {
   "cell_type": "code",
   "execution_count": 25,
   "id": "73d639f6-537d-46a3-8c1e-95f019cf04de",
   "metadata": {},
   "outputs": [],
   "source": [
    "##making prediction\n",
    "prediction=ar_model_fit.predict(start=141,end=240) "
   ]
  },
  {
   "cell_type": "code",
   "execution_count": 26,
   "id": "526508a3-0db3-45d0-84f3-56a1f249a773",
   "metadata": {},
   "outputs": [
    {
     "data": {
      "text/plain": [
       "1931-10-01    49.933904\n",
       "1931-11-01    44.022989\n",
       "1931-12-01    39.421711\n",
       "1932-01-01    37.235948\n",
       "1932-02-01    37.041710\n",
       "Freq: MS, dtype: float64"
      ]
     },
     "execution_count": 26,
     "metadata": {},
     "output_type": "execute_result"
    }
   ],
   "source": [
    "prediction.head()"
   ]
  },
  {
   "cell_type": "code",
   "execution_count": 27,
   "id": "63f53aa8-cff8-4396-83ec-f72e207c9abd",
   "metadata": {},
   "outputs": [
    {
     "data": {
      "text/html": [
       "<div>\n",
       "<style scoped>\n",
       "    .dataframe tbody tr th:only-of-type {\n",
       "        vertical-align: middle;\n",
       "    }\n",
       "\n",
       "    .dataframe tbody tr th {\n",
       "        vertical-align: top;\n",
       "    }\n",
       "\n",
       "    .dataframe thead th {\n",
       "        text-align: right;\n",
       "    }\n",
       "</style>\n",
       "<table border=\"1\" class=\"dataframe\">\n",
       "  <thead>\n",
       "    <tr style=\"text-align: right;\">\n",
       "      <th></th>\n",
       "      <th>temp</th>\n",
       "    </tr>\n",
       "    <tr>\n",
       "      <th>Month</th>\n",
       "      <th></th>\n",
       "    </tr>\n",
       "  </thead>\n",
       "  <tbody>\n",
       "    <tr>\n",
       "      <th>1931-09-01</th>\n",
       "      <td>53.8</td>\n",
       "    </tr>\n",
       "    <tr>\n",
       "      <th>1931-10-01</th>\n",
       "      <td>46.6</td>\n",
       "    </tr>\n",
       "    <tr>\n",
       "      <th>1931-11-01</th>\n",
       "      <td>45.5</td>\n",
       "    </tr>\n",
       "    <tr>\n",
       "      <th>1931-12-01</th>\n",
       "      <td>40.6</td>\n",
       "    </tr>\n",
       "    <tr>\n",
       "      <th>1932-01-01</th>\n",
       "      <td>42.4</td>\n",
       "    </tr>\n",
       "  </tbody>\n",
       "</table>\n",
       "</div>"
      ],
      "text/plain": [
       "            temp\n",
       "Month           \n",
       "1931-09-01  53.8\n",
       "1931-10-01  46.6\n",
       "1931-11-01  45.5\n",
       "1931-12-01  40.6\n",
       "1932-01-01  42.4"
      ]
     },
     "execution_count": 27,
     "metadata": {},
     "output_type": "execute_result"
    }
   ],
   "source": [
    "test.head()"
   ]
  },
  {
   "cell_type": "code",
   "execution_count": 28,
   "id": "a12a3118-31bd-4d74-99b7-2923f93160a9",
   "metadata": {},
   "outputs": [
    {
     "data": {
      "image/png": "[encoded data removed]",
      "text/plain": [
       "<Figure size 640x480 with 1 Axes>"
      ]
     },
     "metadata": {},
     "output_type": "display_data"
    }
   ],
   "source": [
    "import matplotlib.pyplot as plt\n",
    "plt.plot(test)\n",
    "plt.plot(prediction,color=\"red\")\n",
    "plt.show()"
   ]
  },
  {
   "cell_type": "code",
   "execution_count": 29,
   "id": "35580832-8b6b-4463-882a-82b55f401ced",
   "metadata": {},
   "outputs": [
    {
     "name": "stdout",
     "output_type": "stream",
     "text": [
      "test length: 100\n",
      "prediction length: 100\n"
     ]
    }
   ],
   "source": [
    "print(\"test length:\", len(test))\n",
    "print(\"prediction length:\", len(prediction))"
   ]
  },
  {
   "cell_type": "markdown",
   "id": "d0d08878-8df1-4c9e-95e4-f36c6b598dc8",
   "metadata": {},
   "source": [
    "# ARIMA Model"
   ]
  },
  {
   "cell_type": "code",
   "execution_count": 31,
   "id": "fd8dc5db-d461-443a-8534-bcac50eb9ad6",
   "metadata": {},
   "outputs": [],
   "source": [
    "## importing the library\n",
    "from statsmodels.tsa.arima.model import ARIMA"
   ]
  },
  {
   "cell_type": "code",
   "execution_count": 48,
   "id": "62ee5a69-5c58-4e97-9747-159658c541b3",
   "metadata": {},
   "outputs": [],
   "source": [
    "##Model object creation and fitting the model\n",
    "model_arima = ARIMA(train, order=(1, 4, 2))#order=p,d,q\n",
    "model_arima_fit = model_arima.fit()#training"
   ]
  },
  {
   "cell_type": "code",
   "execution_count": 49,
   "id": "3c9cb6ae-0e49-4b59-a4d2-2b6d29af3340",
   "metadata": {},
   "outputs": [
    {
     "name": "stdout",
     "output_type": "stream",
     "text": [
      "857.6919529631275\n"
     ]
    }
   ],
   "source": [
    "## evaluate the model\n",
    "print(model_arima_fit.aic)"
   ]
  },
  {
   "cell_type": "code",
   "execution_count": 50,
   "id": "3c9a769b-4682-48c6-8da2-2171c3b0d5de",
   "metadata": {},
   "outputs": [],
   "source": [
    "predictions = model_arima_fit.forecast(steps=9)"
   ]
  },
  {
   "cell_type": "code",
   "execution_count": 51,
   "id": "1bc481b4-f0ab-4cbc-8022-8709d78fd5ef",
   "metadata": {},
   "outputs": [
    {
     "data": {
      "text/plain": [
       "1931-10-01    49.933904\n",
       "1931-11-01    44.022989\n",
       "1931-12-01    39.421711\n",
       "1932-01-01    37.235948\n",
       "1932-02-01    37.041710\n",
       "                ...    \n",
       "1939-09-01    54.921961\n",
       "1939-10-01    50.453346\n",
       "1939-11-01    45.438485\n",
       "1939-12-01    41.216653\n",
       "1940-01-01    38.910626\n",
       "Freq: MS, Length: 100, dtype: float64"
      ]
     },
     "execution_count": 51,
     "metadata": {},
     "output_type": "execute_result"
    }
   ],
   "source": [
    "prediction"
   ]
  },
  {
   "cell_type": "code",
   "execution_count": 52,
   "id": "0e9b8d88-9601-45df-bec4-62b7096e5cd2",
   "metadata": {},
   "outputs": [
    {
     "data": {
      "image/png": "[encoded data removed]",
      "text/plain": [
       "<Figure size 640x480 with 1 Axes>"
      ]
     },
     "metadata": {},
     "output_type": "display_data"
    }
   ],
   "source": [
    "plt.plot(test[:9])\n",
    "plt.plot(predictions,color='red')\n",
    "plt.show()"
   ]
  },
  {
   "cell_type": "code",
   "execution_count": 53,
   "id": "6d170b9a-3590-4bd8-8a25-d1d3fa0d200e",
   "metadata": {},
   "outputs": [
    {
     "name": "stdout",
     "output_type": "stream",
     "text": [
      "[(0, 0, 0), (0, 0, 1), (0, 0, 2), (0, 0, 3), (0, 0, 4), (0, 1, 0), (0, 1, 1), (0, 1, 2), (0, 1, 3), (0, 1, 4), (0, 2, 0), (0, 2, 1), (0, 2, 2), (0, 2, 3), (0, 2, 4), (0, 3, 0), (0, 3, 1), (0, 3, 2), (0, 3, 3), (0, 3, 4), (0, 4, 0), (0, 4, 1), (0, 4, 2), (0, 4, 3), (0, 4, 4), (1, 0, 0), (1, 0, 1), (1, 0, 2), (1, 0, 3), (1, 0, 4), (1, 1, 0), (1, 1, 1), (1, 1, 2), (1, 1, 3), (1, 1, 4), (1, 2, 0), (1, 2, 1), (1, 2, 2), (1, 2, 3), (1, 2, 4), (1, 3, 0), (1, 3, 1), (1, 3, 2), (1, 3, 3), (1, 3, 4), (1, 4, 0), (1, 4, 1), (1, 4, 2), (1, 4, 3), (1, 4, 4), (2, 0, 0), (2, 0, 1), (2, 0, 2), (2, 0, 3), (2, 0, 4), (2, 1, 0), (2, 1, 1), (2, 1, 2), (2, 1, 3), (2, 1, 4), (2, 2, 0), (2, 2, 1), (2, 2, 2), (2, 2, 3), (2, 2, 4), (2, 3, 0), (2, 3, 1), (2, 3, 2), (2, 3, 3), (2, 3, 4), (2, 4, 0), (2, 4, 1), (2, 4, 2), (2, 4, 3), (2, 4, 4), (3, 0, 0), (3, 0, 1), (3, 0, 2), (3, 0, 3), (3, 0, 4), (3, 1, 0), (3, 1, 1), (3, 1, 2), (3, 1, 3), (3, 1, 4), (3, 2, 0), (3, 2, 1), (3, 2, 2), (3, 2, 3), (3, 2, 4), (3, 3, 0), (3, 3, 1), (3, 3, 2), (3, 3, 3), (3, 3, 4), (3, 4, 0), (3, 4, 1), (3, 4, 2), (3, 4, 3), (3, 4, 4), (4, 0, 0), (4, 0, 1), (4, 0, 2), (4, 0, 3), (4, 0, 4), (4, 1, 0), (4, 1, 1), (4, 1, 2), (4, 1, 3), (4, 1, 4), (4, 2, 0), (4, 2, 1), (4, 2, 2), (4, 2, 3), (4, 2, 4), (4, 3, 0), (4, 3, 1), (4, 3, 2), (4, 3, 3), (4, 3, 4), (4, 4, 0), (4, 4, 1), (4, 4, 2), (4, 4, 3), (4, 4, 4)] 125\n"
     ]
    }
   ],
   "source": [
    "import itertools\n",
    "\n",
    "p =d= q= range(0,5)#values of p,d,q range from 0 to 4\n",
    "\n",
    "pdq = list(itertools.product(p,d,q))\n",
    "print(pdq, len(pdq)) #number of combinaton of pdq"
   ]
  },
  {
   "cell_type": "code",
   "execution_count": 54,
   "id": "bf57b052-3ef6-4a52-88dc-33392cfb223a",
   "metadata": {},
   "outputs": [
    {
     "name": "stdout",
     "output_type": "stream",
     "text": [
      "(0, 0, 0) 997.8270139079556\n",
      "(0, 0, 1) 889.2809193835585\n",
      "(0, 0, 2) 842.359881323744\n",
      "(0, 0, 3) 810.1657094282912\n",
      "(0, 0, 4) 797.9844275196351\n",
      "(0, 1, 0) 853.230012093592\n",
      "(0, 1, 1) 835.5372653909756\n",
      "(0, 1, 2) 823.7853083065006\n",
      "(0, 1, 3) 817.1286641155025\n",
      "(0, 1, 4) 818.9293140902657\n",
      "(0, 2, 0) 865.4790656974967\n",
      "(0, 2, 1) 849.8222409503019\n",
      "(0, 2, 2) 848.2786686961026\n",
      "(0, 2, 3) 824.8323968982901\n",
      "(0, 2, 4) 817.811103547954\n",
      "(0, 3, 0) 997.8372475168607\n",
      "(0, 3, 1) 867.1444316925998\n",
      "(0, 3, 2) 852.4278669850557\n",
      "(0, 3, 3) 850.3277999680247\n",
      "(0, 3, 4) 831.6245889949795\n",
      "(0, 4, 0) 1156.9477406875803\n",
      "(0, 4, 1) 998.4775504634674\n",
      "(0, 4, 2) 873.9043407129129\n",
      "(0, 4, 3) 860.5983782836024\n",
      "(0, 4, 4) 857.8252107864298\n",
      "(1, 0, 0) 850.646970130719\n",
      "(1, 0, 1) 826.6814345283962\n",
      "(1, 0, 2) 810.8877134016614\n",
      "(1, 0, 3) 797.4417015275473\n",
      "(1, 0, 4) 799.1866381529333\n",
      "(1, 1, 0) 826.6552668072891\n",
      "(1, 1, 1) 827.7754412217816\n",
      "(1, 1, 2) 823.5826640620888\n",
      "(1, 1, 3) 807.8337493490835\n",
      "(1, 1, 4) 794.459928649997\n",
      "(1, 2, 0) 847.236685408338\n",
      "(1, 2, 1) 849.2280466921518\n",
      "(1, 2, 2) 850.1265708337485\n",
      "(1, 2, 3) 820.972367819196\n",
      "(1, 2, 4) 819.6188341132265\n",
      "(1, 3, 0) 912.3411549470983\n",
      "(1, 3, 1) 849.6694306807016\n",
      "(1, 3, 2) 851.6432628824593\n",
      "(1, 3, 3) 852.2394491363668\n",
      "(1, 3, 4) 853.8564685912465\n",
      "(1, 4, 0) 1035.578117101043\n",
      "(1, 4, 1) 914.6513075616726\n",
      "(1, 4, 2) 857.6919529631275\n",
      "(1, 4, 3) 859.6210566086438\n",
      "(1, 4, 4) 866.3521711777137\n",
      "(2, 0, 0) 794.8170629480855\n",
      "(2, 0, 1) 720.1652142061387\n",
      "(2, 0, 2) 680.9328284293169\n",
      "(2, 0, 3) 675.6537962221241\n",
      "(2, 0, 4) 677.5164762129634\n",
      "(2, 1, 0) 826.6222480293592\n",
      "(2, 1, 1) 827.3360614376084\n",
      "(2, 1, 2) 721.1042777809108\n",
      "(2, 1, 3) 682.030497127228\n",
      "(2, 1, 4) 676.6042210731334\n",
      "(2, 2, 0) 849.2242096446926\n",
      "(2, 2, 1) 851.1935605921705\n",
      "(2, 2, 2) 827.9708966038154\n",
      "(2, 2, 3) 724.5876699365413\n",
      "(2, 2, 4) 701.8468329116524\n",
      "(2, 3, 0) 883.4676660579984\n",
      "(2, 3, 1) 851.6307793937201\n",
      "(2, 3, 2) 853.1398709070979\n",
      "(2, 3, 3) 852.5824635916522\n",
      "(2, 3, 4) 854.433533756976\n",
      "(2, 4, 0) 965.8392419011266\n",
      "(2, 4, 1) 886.7199875376893\n",
      "(2, 4, 2) 859.5811592517557\n",
      "(2, 4, 3) 861.5644339474293\n",
      "(2, 4, 4) 863.4472311972718\n",
      "(3, 0, 0) 751.9347914149353\n",
      "(3, 0, 1) 707.6221571846205\n",
      "(3, 0, 2) 678.6301214000038\n",
      "(3, 0, 3) 684.5983344722703\n",
      "(3, 0, 4) 679.277540821409\n",
      "(3, 1, 0) 820.9086854126244\n",
      "(3, 1, 1) 751.0219802349942\n",
      "(3, 1, 2) 709.5742244708434\n",
      "(3, 1, 3) 676.6082072497767\n",
      "(3, 1, 4) 686.1181865043094\n",
      "(3, 2, 0) 850.3424065543668\n",
      "(3, 2, 1) 851.8528169793877\n",
      "(3, 2, 2) 848.116022748331\n",
      "(3, 2, 3) 825.0748609927899\n",
      "(3, 2, 4) 728.6231231337968\n",
      "(3, 3, 0) 882.2334171631643\n",
      "(3, 3, 1) 852.5785942852974\n",
      "(3, 3, 2) 854.1116216353157\n",
      "(3, 3, 3) 853.7566566142439\n",
      "(3, 3, 4) 856.4095253633959\n",
      "(3, 4, 0) 936.3087866615158\n",
      "(3, 4, 1) 885.7816753038276\n",
      "(3, 4, 2) 860.4679950936611\n",
      "(3, 4, 3) 863.5411653933943\n",
      "(3, 4, 4) 863.3228448060877\n",
      "(4, 0, 0) 727.2128457011706\n",
      "(4, 0, 1) 705.5163855405908\n",
      "(4, 0, 2) 676.2077006244974\n",
      "(4, 0, 3) 679.7203215169266\n",
      "(4, 0, 4) 689.8564449478824\n",
      "(4, 1, 0) 798.6912435482773\n",
      "(4, 1, 1) 727.1897680298432\n",
      "(4, 1, 2) 707.7562828594091\n",
      "(4, 1, 3) 710.7804350853125\n",
      "(4, 1, 4) 680.9539400583981\n",
      "(4, 2, 0) 849.900334251065\n",
      "(4, 2, 1) 800.6289492460336\n",
      "(4, 2, 2) 735.2254867278712\n",
      "(4, 2, 3) 715.7565193056419\n",
      "(4, 2, 4) 716.3506905101209\n",
      "(4, 3, 0) 883.6537469042157\n",
      "(4, 3, 1) 852.3998665011234\n",
      "(4, 3, 2) 856.3020268871021\n",
      "(4, 3, 3) 857.9866958972136\n",
      "(4, 3, 4) 854.9666347561842\n",
      "(4, 4, 0) 926.5237632960273\n",
      "(4, 4, 1) 887.3317420511931\n",
      "(4, 4, 2) 889.4440233367943\n",
      "(4, 4, 3) 883.1055201402355\n",
      "(4, 4, 4) 862.4544948083881\n"
     ]
    }
   ],
   "source": [
    "list1=[]\n",
    "list2=[]\n",
    "for params in pdq: #iterating params over pdq\n",
    "    try:\n",
    "        model_arima = ARIMA(train, order=params)#training model on various pdq values\n",
    "        model_arima_fit = model_arima.fit()#training\n",
    "        print(params, model_arima_fit.aic)#printing parameter and aic values\n",
    "        list1.append(params)\n",
    "        list2.append(model_arima_fit.aic)\n",
    "    except:\n",
    "        continue"
   ]
  },
  {
   "cell_type": "code",
   "execution_count": 55,
   "id": "f99f6d4b-bb4c-44f5-8cb8-d92216d00127",
   "metadata": {},
   "outputs": [
    {
     "data": {
      "text/plain": [
       "675.6537962221241"
      ]
     },
     "execution_count": 55,
     "metadata": {},
     "output_type": "execute_result"
    }
   ],
   "source": [
    "min(list2)  # lowest aic score"
   ]
  },
  {
   "cell_type": "code",
   "execution_count": 56,
   "id": "0e9d4152-8eca-4fd3-9841-0af7d4dffe7b",
   "metadata": {},
   "outputs": [
    {
     "data": {
      "text/plain": [
       "53"
      ]
     },
     "execution_count": 56,
     "metadata": {},
     "output_type": "execute_result"
    }
   ],
   "source": [
    "list2.index(min(list2))"
   ]
  },
  {
   "cell_type": "code",
   "execution_count": 57,
   "id": "1543c9a4-3c95-4a3b-81e3-3cb04bccacd6",
   "metadata": {},
   "outputs": [
    {
     "data": {
      "text/plain": [
       "(2, 0, 3)"
      ]
     },
     "execution_count": 57,
     "metadata": {},
     "output_type": "execute_result"
    }
   ],
   "source": [
    "# pdq corresponding to lowest aic\n",
    "loc=list2.index(min(list2))\n",
    "list1[loc]"
   ]
  },
  {
   "cell_type": "code",
   "execution_count": 58,
   "id": "b793e1b4-ddea-4e74-85b8-0a4ebd52c030",
   "metadata": {},
   "outputs": [],
   "source": [
    "## create the final model with lowest aic score parameter\n",
    "model_arima = ARIMA(train, order=(2,0,3))\n",
    "model_arima_fit = model_arima.fit() #training"
   ]
  },
  {
   "cell_type": "code",
   "execution_count": 59,
   "id": "dbddbc47-381e-4358-9ded-03072b934fb4",
   "metadata": {},
   "outputs": [
    {
     "name": "stdout",
     "output_type": "stream",
     "text": [
      "675.6537962221241\n"
     ]
    }
   ],
   "source": [
    "print(model_arima_fit.aic) # confirm aic score"
   ]
  },
  {
   "cell_type": "code",
   "execution_count": 60,
   "id": "1d330570-fee5-4075-9f72-eb3d33b10675",
   "metadata": {},
   "outputs": [
    {
     "data": {
      "text/plain": [
       "1931-09-01    55.438785\n",
       "1931-10-01    50.386336\n",
       "1931-11-01    44.588690\n",
       "1931-12-01    39.886080\n",
       "1932-01-01    37.534667\n",
       "1932-02-01    38.162558\n",
       "1932-03-01    41.602021\n",
       "1932-04-01    46.934294\n",
       "1932-05-01    52.735010\n",
       "Freq: MS, Name: predicted_mean, dtype: float64"
      ]
     },
     "execution_count": 60,
     "metadata": {},
     "output_type": "execute_result"
    }
   ],
   "source": [
    "forecast = model_arima_fit.forecast(steps=9)\n",
    "forecast"
   ]
  },
  {
   "cell_type": "code",
   "execution_count": 61,
   "id": "ed4a8612-5085-4232-876d-bf4c13abdd48",
   "metadata": {},
   "outputs": [
    {
     "data": {
      "text/plain": [
       "array([53.8, 46.6, 45.5, 40.6, 42.4, 38.4, 40.3, 44.6, 50.9, 57. , 62.1,\n",
       "       63.5, 56.2, 47.3, 43.6, 41.8, 36.2, 39.3, 44.5, 48.7, 54.2, 60.8,\n",
       "       65.5, 64.9, 60.1])"
      ]
     },
     "execution_count": 61,
     "metadata": {},
     "output_type": "execute_result"
    }
   ],
   "source": [
    "forecast25 = model_arima_fit.forecast(steps=25)\n",
    "test1 = test[0:25].values.flatten()\n",
    "test1"
   ]
  },
  {
   "cell_type": "code",
   "execution_count": 62,
   "id": "baf9a03e-6dd2-490b-89d2-dedad57199d7",
   "metadata": {},
   "outputs": [
    {
     "data": {
      "image/png": "[encoded data removed]",
      "text/plain": [
       "<Figure size 640x480 with 1 Axes>"
      ]
     },
     "metadata": {},
     "output_type": "display_data"
    }
   ],
   "source": [
    "# Comparision of actual vs predicted for 25 values\n",
    "plt.plot(test[:25])\n",
    "plt.plot(forecast25,color='green') #line plot for prediction\n",
    "plt.show()"
   ]
  },
  {
   "cell_type": "code",
   "execution_count": 63,
   "id": "150f4b8a-789e-4737-8309-19bca2b2de39",
   "metadata": {},
   "outputs": [
    {
     "name": "stdout",
     "output_type": "stream",
     "text": [
      "RMSE 2.8460306946462373\n",
      "MSE 8.099890714868543\n",
      "MAE 2.3606351382881186\n"
     ]
    }
   ],
   "source": [
    "from sklearn.metrics import mean_squared_error,mean_absolute_error\n",
    "from statsmodels.tools.eval_measures import rmse\n",
    "\n",
    "# Calculate root mean squared error\n",
    "print('RMSE',rmse(test1, forecast25))\n",
    "\n",
    "# Calculate mean squared error\n",
    "print('MSE',mean_squared_error(test1, forecast25))\n",
    "\n",
    "print('MAE',mean_absolute_error(test1,forecast25))\n"
   ]
  },
  {
   "cell_type": "markdown",
   "id": "ad654570-e29c-4b45-bccc-56eee536cbfb",
   "metadata": {},
   "source": [
    "- Higher RMSE than MAE suggests some larger individual errors may exist—maybe from months with unusual climate behavior or poor seasonal fit.\n",
    "- Since temperature data tends to be seasonal and cyclic, residuals might reflect seasonal lags or mismatches.\n",
    "\n"
   ]
  },
  {
   "cell_type": "code",
   "execution_count": null,
   "id": "bca1b641-9676-46c4-b494-e746ee5487fb",
   "metadata": {},
   "outputs": [],
   "source": []
  }
 ],
 "metadata": {
  "kernelspec": {
   "display_name": "Python [conda env:base] *",
   "language": "python",
   "name": "conda-base-py"
  },
  "language_info": {
   "codemirror_mode": {
    "name": "ipython",
    "version": 3
   },
   "file_extension": ".py",
   "mimetype": "text/x-python",
   "name": "python",
   "nbconvert_exporter": "python",
   "pygments_lexer": "ipython3",
   "version": "3.12.7"
  }
 },
 "nbformat": 4,
 "nbformat_minor": 5
}
